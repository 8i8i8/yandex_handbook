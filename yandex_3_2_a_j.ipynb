{
 "cells": [
  {
   "cell_type": "markdown",
   "id": "26f712c5-e031-4160-bbc3-014c7de5ff6b",
   "metadata": {},
   "source": [
    "### A"
   ]
  },
  {
   "cell_type": "code",
   "execution_count": 10,
   "id": "01975410-9666-46a1-93e5-b6dcdf5d3fbe",
   "metadata": {},
   "outputs": [
    {
     "name": "stdin",
     "output_type": "stream",
     "text": [
      " sdfhkjkkk\n"
     ]
    },
    {
     "name": "stdout",
     "output_type": "stream",
     "text": [
      "jhdkfs\n"
     ]
    }
   ],
   "source": [
    "symbols = ''.join(set(input()))\n",
    "print(symbols)"
   ]
  },
  {
   "cell_type": "code",
   "execution_count": null,
   "id": "6ae9e842-05e2-40fc-a7a0-a16c4a0467c7",
   "metadata": {},
   "outputs": [],
   "source": [
    "text = set()\n",
    "for letter in input():\n",
    "    text.add(letter)\n",
    "symbols = ''.join(text)\n",
    "print(symbols)"
   ]
  },
  {
   "cell_type": "markdown",
   "id": "feb3631d-6cc7-408b-bd21-6fa65f2509bf",
   "metadata": {},
   "source": [
    "### B"
   ]
  },
  {
   "cell_type": "code",
   "execution_count": 16,
   "id": "f39d0e46-44a5-4cf5-99b5-86d680608818",
   "metadata": {},
   "outputs": [
    {
     "name": "stdin",
     "output_type": "stream",
     "text": [
      " змееед\n",
      " велосипед\n"
     ]
    },
    {
     "name": "stdout",
     "output_type": "stream",
     "text": [
      "ед\n"
     ]
    }
   ],
   "source": [
    "word_1 = set(input())\n",
    "word_2 = set(input())\n",
    "common = ''.join(word_1.intersection(word_2))\n",
    "print(common)"
   ]
  },
  {
   "cell_type": "code",
   "execution_count": 19,
   "id": "7a690264-fab3-44f3-b8b1-2c5c33d51254",
   "metadata": {},
   "outputs": [
    {
     "name": "stdin",
     "output_type": "stream",
     "text": [
      " змееед\n",
      " велосипед\n"
     ]
    },
    {
     "name": "stdout",
     "output_type": "stream",
     "text": [
      "ед\n"
     ]
    }
   ],
   "source": [
    "print(''.join(set(input()) & set(input())))"
   ]
  },
  {
   "cell_type": "markdown",
   "id": "c4c53a29-32b4-4a6b-a531-5e6f5831fd38",
   "metadata": {},
   "source": [
    "### C"
   ]
  },
  {
   "cell_type": "code",
   "execution_count": 21,
   "id": "a8acdc13-d656-4131-ab47-0e5c340875e2",
   "metadata": {},
   "outputs": [
    {
     "name": "stdin",
     "output_type": "stream",
     "text": [
      " 3\n",
      " березка елочка зайка волк березка\n",
      " сосна зайка сосна елочка зайка медведь\n",
      " сосна сосна сосна белочка сосна белочка\n"
     ]
    },
    {
     "name": "stdout",
     "output_type": "stream",
     "text": [
      "сосна\n",
      "белочка\n",
      "березка\n",
      "волк\n",
      "медведь\n",
      "зайка\n",
      "елочка\n"
     ]
    }
   ],
   "source": [
    "land = set()\n",
    "for i in range(int(input())):\n",
    "    for word in input().split():\n",
    "        land.add(word)\n",
    "for objects in land:\n",
    "    print(objects)"
   ]
  },
  {
   "cell_type": "markdown",
   "id": "0f8b4c41-4b60-4636-9c6a-598e9843d3ed",
   "metadata": {},
   "source": [
    "### D"
   ]
  },
  {
   "cell_type": "code",
   "execution_count": 5,
   "id": "7eccb45e-32da-400b-ac10-43feeab2b08f",
   "metadata": {},
   "outputs": [
    {
     "name": "stdin",
     "output_type": "stream",
     "text": [
      " 3\n",
      " 2\n",
      " Васильев\n",
      " Петров\n",
      " Васечкин\n",
      " Иванов\n",
      " Михайлов\n"
     ]
    },
    {
     "name": "stdout",
     "output_type": "stream",
     "text": [
      "Таких нет\n"
     ]
    }
   ],
   "source": [
    "mannaya = set()\n",
    "ovsyanka = set()\n",
    "n = int(input())\n",
    "m = int(input())\n",
    "for i in range(n):\n",
    "    mannaya.add(input())\n",
    "for j in range(m):\n",
    "    ovsyanka.add(input())\n",
    "both = mannaya & ovsyanka\n",
    "if both:\n",
    "    print(len(both))\n",
    "else:\n",
    "    print('Таких нет')"
   ]
  },
  {
   "cell_type": "markdown",
   "id": "5a89c7b2-5665-4b46-b699-31faf1700986",
   "metadata": {},
   "source": [
    "### E"
   ]
  },
  {
   "cell_type": "code",
   "execution_count": 11,
   "id": "87a52dea-1038-41b0-a767-8d7b68c7be32",
   "metadata": {},
   "outputs": [
    {
     "name": "stdin",
     "output_type": "stream",
     "text": [
      " 3\n",
      " 2\n",
      " Васильев\n",
      " Петров\n",
      " Васечкин\n",
      " Иванов\n",
      " Михайлов\n"
     ]
    },
    {
     "name": "stdout",
     "output_type": "stream",
     "text": [
      "5\n"
     ]
    }
   ],
   "source": [
    "surnames = dict()\n",
    "for i in range(int(input()) + int(input())):\n",
    "    surname = input()\n",
    "    surnames[surname] = surnames.get(surname, 0) + 1\n",
    "cnt = 0\n",
    "for value in surnames.values():\n",
    "    if value == 1:\n",
    "        cnt += 1\n",
    "if cnt:\n",
    "    print(cnt)\n",
    "else:\n",
    "    print('Таких нет')"
   ]
  },
  {
   "cell_type": "code",
   "execution_count": null,
   "id": "dc54e7dc-4908-4035-98dd-f736c63fbd40",
   "metadata": {},
   "outputs": [],
   "source": [
    "surnames = dict()\n",
    "n = int(input())\n",
    "m = int(input())\n",
    "for i in range(n + m):\n",
    "    surname = input()\n",
    "    surnames[surname] = surnames.get(surname, 0) + 1\n",
    "count = 0\n",
    "for key in surnames:\n",
    "    if surnames[key] == 1:\n",
    "        count += 1\n",
    "if count:\n",
    "    print(count)\n",
    "else:\n",
    "    print('Таких нет')"
   ]
  },
  {
   "cell_type": "markdown",
   "id": "8b99d470-2d73-4010-90d2-f08d98f6559b",
   "metadata": {},
   "source": [
    "### F"
   ]
  },
  {
   "cell_type": "code",
   "execution_count": 19,
   "id": "2516de43-031b-4bd4-a6b1-d8a4dea2db65",
   "metadata": {},
   "outputs": [
    {
     "name": "stdin",
     "output_type": "stream",
     "text": [
      " 3\n",
      " 2\n",
      " Васильев\n",
      " Петров\n",
      " Васечкин\n",
      " Иванов\n",
      " Михайлов\n"
     ]
    },
    {
     "name": "stdout",
     "output_type": "stream",
     "text": [
      "Васечкин\n",
      "Васильев\n",
      "Иванов\n",
      "Михайлов\n",
      "Петров\n"
     ]
    }
   ],
   "source": [
    "surnames = dict()\n",
    "surnames_list = []\n",
    "for i in range(int(input()) + int(input())):\n",
    "    surname = input()\n",
    "    surnames[surname] = surnames.get(surname, 0) + 1\n",
    "for key, value in surnames.items():\n",
    "    if value == 1:\n",
    "        surnames_list.append(key)\n",
    "if surnames_list:\n",
    "    for surname in sorted(surnames_list):\n",
    "        print(surname)\n",
    "else:\n",
    "    print('Таких нет')"
   ]
  },
  {
   "cell_type": "code",
   "execution_count": 33,
   "id": "188cb133-74d6-445a-a5c4-32eb590a3cbc",
   "metadata": {},
   "outputs": [],
   "source": [
    "class Kindergarden:\n",
    "    building = ['Kitchen', 'Pool']\n",
    "\n",
    "\n",
    "    def play_games(self, game_name):\n",
    "        print(f'playing {game_name} now')\n",
    "\n",
    "\n",
    "    def count_surnames(self, surnames):\n",
    "\n",
    "        surnames_dict = dict()\n",
    "\n",
    "        for surname in surnames:\n",
    "            surnames_dict[surname] = surnames_dict.get(surname, 0) + 1\n",
    "\n",
    "        surnames_list = [\n",
    "            key for key in surnames_dict.keys() \n",
    "            if surnames_dict[key] == 1\n",
    "        ]\n",
    "\n",
    "        if surnames_list:\n",
    "            return '\\n'.join(sorted(surnames_list))\n",
    "        else:\n",
    "            return 'Таких нет'\n",
    "\n",
    "\n",
    "\n",
    "\n",
    "# test\n",
    "surnames = ['Васечкин', 'Васильев', 'Иванов', 'Михайлов', 'Петров']\n",
    "assert Kindergarden().count_surnames(surnames) == 'Васечкин\\nВасильев\\nИванов\\nМихайлов\\nПетров'"
   ]
  },
  {
   "cell_type": "code",
   "execution_count": 34,
   "id": "d470152a-0647-4278-8da0-27108da7ff8c",
   "metadata": {},
   "outputs": [],
   "source": [
    "kindergarden = Kindergarden()"
   ]
  },
  {
   "cell_type": "code",
   "execution_count": 36,
   "id": "e751faac-b156-406c-882b-9ea406943029",
   "metadata": {},
   "outputs": [
    {
     "name": "stdout",
     "output_type": "stream",
     "text": [
      "playing last of us now\n"
     ]
    }
   ],
   "source": [
    "kindergarden.play_games('last of us')"
   ]
  },
  {
   "cell_type": "code",
   "execution_count": 32,
   "id": "b174a0cf-4b43-4df3-8d60-42416c91e2cb",
   "metadata": {},
   "outputs": [
    {
     "data": {
      "text/plain": [
       "['Kitchen', 'Pool']"
      ]
     },
     "execution_count": 32,
     "metadata": {},
     "output_type": "execute_result"
    }
   ],
   "source": [
    "kindergarden.building"
   ]
  },
  {
   "cell_type": "markdown",
   "id": "640df99c",
   "metadata": {},
   "source": [
    "### G"
   ]
  },
  {
   "cell_type": "code",
   "execution_count": 38,
   "id": "0f4b3f84",
   "metadata": {
    "scrolled": true
   },
   "outputs": [
    {
     "name": "stdout",
     "output_type": "stream",
     "text": [
      "Hello world\n",
      ".... . .-.. .-.. ---\n",
      ".-- --- .-. .-.. -..\n"
     ]
    }
   ],
   "source": [
    "morse = {\n",
    "    'A': '.-', 'B': '-...', 'C': '-.-.',\n",
    "    'D': '-..', 'E': '.', 'F': '..-.',\n",
    "    'G': '--.', 'H': '....', 'I': '..',\n",
    "    'J': '.---', 'K': '-.-', 'L': '.-..',\n",
    "    'M': '--', 'N': '-.', 'O': '---',\n",
    "    'P': '.--.', 'Q': '--.-', 'R': '.-.',\n",
    "    'S': '...', 'T': '-', 'U': '..-',\n",
    "    'V': '...-', 'W': '.--', 'X': '-..-',\n",
    "    'Y': '-.--', 'Z': '--..',\n",
    "    '0': '-----', '1': '.----', '2': '..---',\n",
    "    '3': '...--', '4': '....-', '5': '.....',\n",
    "    '6': '-....', '7': '--...', '8': '---..',\n",
    "    '9': '----.'\n",
    "}\n",
    "for word in input().split():\n",
    "    print(\n",
    "        ' '.join([morse[letter] for letter in word.upper()])\n",
    "    )"
   ]
  },
  {
   "cell_type": "code",
   "execution_count": null,
   "id": "6e79192f",
   "metadata": {},
   "outputs": [],
   "source": [
    "morse = {'A': '.-', 'B': '-...', 'C': '-.-.',\n",
    "    'D': '-..', 'E': '.', 'F': '..-.',\n",
    "    'G': '--.', 'H': '....', 'I': '..',\n",
    "    'J': '.---', 'K': '-.-', 'L': '.-..',\n",
    "    'M': '--', 'N': '-.', 'O': '---',\n",
    "    'P': '.--.', 'Q': '--.-', 'R': '.-.',\n",
    "    'S': '...', 'T': '-', 'U': '..-',\n",
    "    'V': '...-', 'W': '.--', 'X': '-..-',\n",
    "    'Y': '-.--', 'Z': '--..',\n",
    "    '0': '-----', '1': '.----', '2': '..---',\n",
    "    '3': '...--', '4': '....-', '5': '.....',\n",
    "    '6': '-....', '7': '--...', '8': '---..',\n",
    "    '9': '----.'}\n",
    "for letter in input().upper():\n",
    "    if letter == ' ':\n",
    "        print(' ')\n",
    "    else:\n",
    "        print(morse[letter], end=' ')"
   ]
  },
  {
   "cell_type": "markdown",
   "id": "12fede7f",
   "metadata": {},
   "source": [
    "### H"
   ]
  },
  {
   "cell_type": "code",
   "execution_count": 68,
   "id": "83b6df76",
   "metadata": {},
   "outputs": [
    {
     "name": "stdout",
     "output_type": "stream",
     "text": [
      "2\n",
      "Васильев манная\n",
      "Васильев манная\n",
      "манная\n",
      "Васильев\n",
      "Васильев\n"
     ]
    }
   ],
   "source": [
    "kasha = {}\n",
    "for i in range(int(input())):\n",
    "    text = input().split()\n",
    "    for word in text[1:]:\n",
    "        kasha[word] = kasha.get(word, []) + [text[0]]\n",
    "kashka = input()\n",
    "if kashka not in kasha:\n",
    "    print('Таких нет')\n",
    "else:\n",
    "    print('\\n'.join(sorted(kasha[kashka])))"
   ]
  },
  {
   "cell_type": "markdown",
   "id": "81af18b9-6361-4dab-b52c-7252e31ed552",
   "metadata": {},
   "source": [
    "### I"
   ]
  },
  {
   "cell_type": "code",
   "execution_count": 7,
   "id": "929f7e2a-2d49-4f5e-88a8-07302029433f",
   "metadata": {},
   "outputs": [
    {
     "name": "stdin",
     "output_type": "stream",
     "text": [
      " сосна зайка сосна елочка зайка медведь\n",
      " сосна зайка сосна елочка зайка медведь\n",
      " \n"
     ]
    },
    {
     "name": "stdout",
     "output_type": "stream",
     "text": [
      "сосна 4\n",
      "зайка 4\n",
      "елочка 2\n",
      "медведь 2\n"
     ]
    }
   ],
   "source": [
    "nature = {}\n",
    "while text := input():\n",
    "    for word in text.split():\n",
    "        nature[word] = nature.get(word, 0) + 1\n",
    "for key, value in nature.items():\n",
    "    print(key, value)"
   ]
  },
  {
   "cell_type": "code",
   "execution_count": 9,
   "id": "7ac35ad2-e61e-42c2-ab50-44cd789688f8",
   "metadata": {},
   "outputs": [
    {
     "name": "stdin",
     "output_type": "stream",
     "text": [
      " березка елочка зайка волк березка\n",
      " \n"
     ]
    },
    {
     "name": "stdout",
     "output_type": "stream",
     "text": [
      "березка 2\n",
      "елочка 1\n",
      "зайка 1\n",
      "волк 1\n"
     ]
    }
   ],
   "source": [
    "nature = {}\n",
    "while text := input():\n",
    "    for word in text.split():\n",
    "        nature[word] = nature.get(word, 0) + 1\n",
    "for word in nature:\n",
    "    print(word, nature[word])"
   ]
  },
  {
   "cell_type": "markdown",
   "id": "175502f0-477b-4f91-9b6a-642383a4a1b0",
   "metadata": {},
   "source": [
    "### J"
   ]
  },
  {
   "cell_type": "code",
   "execution_count": 13,
   "id": "e3d94ad1-8ae8-44df-898f-d4e21e4a6162",
   "metadata": {},
   "outputs": [
    {
     "name": "stdin",
     "output_type": "stream",
     "text": [
      " Я помню чудное мгновенье: Передо мной явилась ты, Как мимолетное виденье, Как гений чистой красоты.\n"
     ]
    },
    {
     "name": "stdout",
     "output_type": "stream",
     "text": [
      "Ia pomniu chudnoe mgnovene: Peredo mnoi iavilas ty, Kak mimoletnoe videne, Kak genii chistoi krasoty."
     ]
    }
   ],
   "source": [
    "translation_map = {\n",
    "    \"А\": \"A\", \"Б\": \"B\", \"В\": \"V\",\n",
    "    \"Г\": \"G\", \"Д\": \"D\", \"Е\": \"E\",\n",
    "    \"Ё\": \"E\", \"Ж\": \"Zh\", \"З\": \"Z\",\n",
    "    \"И\": \"I\", \"Й\": \"I\", \"К\": \"K\",\n",
    "    \"Л\": \"L\", \"М\": \"M\", \"Н\": \"N\",\n",
    "    \"О\": \"O\", \"П\": \"P\", \"Р\": \"R\",\n",
    "    \"С\": \"S\", \"Т\": \"T\", \"У\": \"U\",\n",
    "    \"Ф\": \"F\", \"Х\": \"Kh\", \"Ц\": \"Tc\",\n",
    "    \"Ч\": \"Ch\", \"Ш\": \"Sh\", \"Щ\": \"Shch\",\n",
    "    \"Ы\": \"Y\", \"Э\": \"E\", \"Ю\": \"Iu\",\n",
    "    \"Я\": \"Ia\", \"а\": \"a\", \"б\": \"b\",\n",
    "    \"в\": \"v\", \"г\": \"g\", \"д\": \"d\",\n",
    "    \"е\": \"e\", \"ё\": \"e\", \"ж\": \"zh\",\n",
    "    \"з\": \"z\", \"и\": \"i\", \"й\": \"i\",\n",
    "    \"к\": \"k\", \"л\": \"l\", \"м\": \"m\",\n",
    "    \"н\": \"n\", \"о\": \"o\", \"п\": \"p\",\n",
    "    \"р\": \"r\", \"с\": \"s\", \"т\": \"t\",\n",
    "    \"у\": \"u\", \"ф\": \"f\", \"х\": \"kh\",\n",
    "    \"ц\": \"tc\", \"ч\": \"ch\", \"ш\": \"sh\",\n",
    "    \"щ\": \"shch\", \"ы\": \"y\", \"э\": \"e\",\n",
    "    \"ю\": \"iu\", \"я\": \"ia\"\n",
    "}\n",
    "soft_sign = {'ь', 'ъ', 'Ь', 'Ъ'}\n",
    "for letter in input():\n",
    "    if letter in translation_map:\n",
    "        print(translation_map[letter], end='')\n",
    "    else:\n",
    "        if letter not in soft_sign:\n",
    "            print(letter, end='')"
   ]
  },
  {
   "cell_type": "code",
   "execution_count": 14,
   "id": "7d9d1ef9-13ca-4277-989e-caad5de9311e",
   "metadata": {},
   "outputs": [
    {
     "name": "stdin",
     "output_type": "stream",
     "text": [
      " Я помню чудное мгновенье: Передо мной явилась ты, Как мимолетное виденье, Как гений чистой красоты.\n"
     ]
    },
    {
     "name": "stdout",
     "output_type": "stream",
     "text": [
      "Ia pomniu chudnoe mgnovene: Peredo mnoi iavilas ty, Kak mimoletnoe videne, Kak genii chistoi krasoty."
     ]
    }
   ],
   "source": [
    "translation_map = {\n",
    "    \"А\": \"A\", \"Б\": \"B\", \"В\": \"V\",\n",
    "    \"Г\": \"G\", \"Д\": \"D\", \"Е\": \"E\",\n",
    "    \"Ё\": \"E\", \"Ж\": \"Zh\", \"З\": \"Z\",\n",
    "    \"И\": \"I\", \"Й\": \"I\", \"К\": \"K\",\n",
    "    \"Л\": \"L\", \"М\": \"M\", \"Н\": \"N\",\n",
    "    \"О\": \"O\", \"П\": \"P\", \"Р\": \"R\",\n",
    "    \"С\": \"S\", \"Т\": \"T\", \"У\": \"U\",\n",
    "    \"Ф\": \"F\", \"Х\": \"Kh\", \"Ц\": \"Tc\",\n",
    "    \"Ч\": \"Ch\", \"Ш\": \"Sh\", \"Щ\": \"Shch\",\n",
    "    \"Ы\": \"Y\", \"Э\": \"E\", \"Ю\": \"Iu\",\n",
    "    \"Я\": \"Ia\", \"а\": \"a\", \"б\": \"b\",\n",
    "    \"в\": \"v\", \"г\": \"g\", \"д\": \"d\",\n",
    "    \"е\": \"e\", \"ё\": \"e\", \"ж\": \"zh\",\n",
    "    \"з\": \"z\", \"и\": \"i\", \"й\": \"i\",\n",
    "    \"к\": \"k\", \"л\": \"l\", \"м\": \"m\",\n",
    "    \"н\": \"n\", \"о\": \"o\", \"п\": \"p\",\n",
    "    \"р\": \"r\", \"с\": \"s\", \"т\": \"t\",\n",
    "    \"у\": \"u\", \"ф\": \"f\", \"х\": \"kh\",\n",
    "    \"ц\": \"tc\", \"ч\": \"ch\", \"ш\": \"sh\",\n",
    "    \"щ\": \"shch\", \"ы\": \"y\", \"э\": \"e\",\n",
    "    \"ю\": \"iu\", \"я\": \"ia\"\n",
    "}\n",
    "soft_sign = {'ь', 'ъ', 'Ь', 'Ъ'}\n",
    "for letter in input():\n",
    "    if letter not in soft_sign:\n",
    "        print(translation_map.get(letter, letter), end='')"
   ]
  }
 ],
 "metadata": {
  "kernelspec": {
   "display_name": "Python 3 (ipykernel)",
   "language": "python",
   "name": "python3"
  },
  "language_info": {
   "codemirror_mode": {
    "name": "ipython",
    "version": 3
   },
   "file_extension": ".py",
   "mimetype": "text/x-python",
   "name": "python",
   "nbconvert_exporter": "python",
   "pygments_lexer": "ipython3",
   "version": "3.9.7"
  }
 },
 "nbformat": 4,
 "nbformat_minor": 5
}
