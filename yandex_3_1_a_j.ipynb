{
 "cells": [
  {
   "cell_type": "markdown",
   "id": "dad7270e-e4b6-4d08-99d3-d52c25d54363",
   "metadata": {},
   "source": [
    "### A"
   ]
  },
  {
   "cell_type": "code",
   "execution_count": 17,
   "id": "82129d76-7e39-4d19-b73b-a11476a1d8fa",
   "metadata": {},
   "outputs": [
    {
     "name": "stdin",
     "output_type": "stream",
     "text": [
      " 3\n",
      " н\n",
      " ке\n",
      " у\n"
     ]
    },
    {
     "name": "stdout",
     "output_type": "stream",
     "text": [
      "NO\n"
     ]
    }
   ],
   "source": [
    "n = int(input())\n",
    "flag = 0\n",
    "for i in range(n):\n",
    "    word = input()\n",
    "    if word[0] != 'а' and word[0] != 'б' and word[0] != 'в':\n",
    "        flag += 1\n",
    "if flag > 0:\n",
    "    print('NO')\n",
    "else:\n",
    "    print('YES')"
   ]
  },
  {
   "cell_type": "markdown",
   "id": "70d174ec-92a6-4ab1-a560-1ee859507be1",
   "metadata": {},
   "source": [
    "### B"
   ]
  },
  {
   "cell_type": "code",
   "execution_count": 19,
   "id": "0dfa090e-1fa8-4dc3-9e3a-6cfe89580911",
   "metadata": {},
   "outputs": [
    {
     "name": "stdin",
     "output_type": "stream",
     "text": [
      " hello\n"
     ]
    },
    {
     "name": "stdout",
     "output_type": "stream",
     "text": [
      "h\n",
      "e\n",
      "l\n",
      "l\n",
      "o\n"
     ]
    }
   ],
   "source": [
    "text = input()\n",
    "for i in range(len(text)):\n",
    "    print(text[i])"
   ]
  },
  {
   "cell_type": "code",
   "execution_count": 20,
   "id": "9013b7a0-f3f7-4acb-acf2-d515f42181de",
   "metadata": {},
   "outputs": [
    {
     "name": "stdin",
     "output_type": "stream",
     "text": [
      " python\n"
     ]
    },
    {
     "name": "stdout",
     "output_type": "stream",
     "text": [
      "p\n",
      "y\n",
      "t\n",
      "h\n",
      "o\n",
      "n\n"
     ]
    }
   ],
   "source": [
    "for letter in input():\n",
    "    print(letter)"
   ]
  },
  {
   "cell_type": "markdown",
   "id": "4208d610-4dcc-4e24-865a-c6b553b614cb",
   "metadata": {},
   "source": [
    "### C"
   ]
  },
  {
   "cell_type": "code",
   "execution_count": 41,
   "id": "9274d85f-d35e-4b1d-80d1-d2e4a62d02ff",
   "metadata": {},
   "outputs": [
    {
     "name": "stdin",
     "output_type": "stream",
     "text": [
      " 25\n",
      " 3\n",
      " Начался саммит по глобальному потеплению\n"
     ]
    },
    {
     "name": "stdout",
     "output_type": "stream",
     "text": [
      "Начался саммит по глоб...\n"
     ]
    },
    {
     "name": "stdin",
     "output_type": "stream",
     "text": [
      " Завтра Новый год!\n"
     ]
    },
    {
     "name": "stdout",
     "output_type": "stream",
     "text": [
      "Завтра Новый год!\n"
     ]
    },
    {
     "name": "stdin",
     "output_type": "stream",
     "text": [
      " Python и Java конкурируют за звание самого популярного языка программирования\n"
     ]
    },
    {
     "name": "stdout",
     "output_type": "stream",
     "text": [
      "Python и Java конкурир...\n"
     ]
    }
   ],
   "source": [
    "al_len = int(input())\n",
    "n = int(input())\n",
    "for i in range(n):\n",
    "    text = input()\n",
    "    if len(text) > al_len:\n",
    "        print(text[: al_len - 3] + '...')\n",
    "    else:\n",
    "        print(text)"
   ]
  },
  {
   "cell_type": "markdown",
   "id": "fcefb1d0-e44f-40b3-ad0e-6008c98b8cf6",
   "metadata": {},
   "source": [
    "### D"
   ]
  },
  {
   "cell_type": "code",
   "execution_count": 16,
   "id": "7bddfce0-c614-452e-9c0a-7264f26082f1",
   "metadata": {},
   "outputs": [
    {
     "name": "stdin",
     "output_type": "stream",
     "text": [
      " First Message\n"
     ]
    },
    {
     "name": "stdout",
     "output_type": "stream",
     "text": [
      "First Message\n"
     ]
    },
    {
     "name": "stdin",
     "output_type": "stream",
     "text": [
      " ##Second Message\n"
     ]
    },
    {
     "name": "stdout",
     "output_type": "stream",
     "text": [
      "Second Message\n"
     ]
    },
    {
     "name": "stdin",
     "output_type": "stream",
     "text": [
      " @@@Third Message##\n"
     ]
    },
    {
     "name": "stdout",
     "output_type": "stream",
     "text": [
      "@@@Third Message##\n"
     ]
    },
    {
     "name": "stdin",
     "output_type": "stream",
     "text": [
      " ##Fourth Message@@@\n",
      " \n"
     ]
    }
   ],
   "source": [
    "text = input()\n",
    "while text:\n",
    "    if text[-3:] != '@@@':\n",
    "        if text[:2] == '##':\n",
    "            print(text[2:])\n",
    "        else:\n",
    "            print(text)\n",
    "    text = input()"
   ]
  },
  {
   "cell_type": "code",
   "execution_count": 17,
   "id": "546f5ea5-a6e3-49f2-a028-dde60a6fbb73",
   "metadata": {},
   "outputs": [
    {
     "name": "stdin",
     "output_type": "stream",
     "text": [
      " First Message\n"
     ]
    },
    {
     "name": "stdout",
     "output_type": "stream",
     "text": [
      "First Message\n"
     ]
    },
    {
     "name": "stdin",
     "output_type": "stream",
     "text": [
      " \n"
     ]
    }
   ],
   "source": [
    "while text := input():\n",
    "    if text[-3:] != '@@@':\n",
    "        if text[:2] == '##':\n",
    "            print(text[2:])\n",
    "        else:\n",
    "            print(text)"
   ]
  },
  {
   "cell_type": "markdown",
   "id": "c7e0d3e5-601c-4905-a166-711859dead30",
   "metadata": {},
   "source": [
    "### E"
   ]
  },
  {
   "cell_type": "code",
   "execution_count": 24,
   "id": "658ce589-1a92-4110-8eb9-fc77064b0afb",
   "metadata": {},
   "outputs": [
    {
     "name": "stdin",
     "output_type": "stream",
     "text": [
      " njn\n"
     ]
    },
    {
     "name": "stdout",
     "output_type": "stream",
     "text": [
      "YES\n"
     ]
    }
   ],
   "source": [
    "text = input()\n",
    "if text == text[::-1]:\n",
    "    print('YES')\n",
    "else:\n",
    "    print('NO')"
   ]
  },
  {
   "cell_type": "code",
   "execution_count": 26,
   "id": "df321895-6a28-4be3-a42e-de0d62261e38",
   "metadata": {},
   "outputs": [
    {
     "name": "stdin",
     "output_type": "stream",
     "text": [
      " vfv\n"
     ]
    },
    {
     "name": "stdout",
     "output_type": "stream",
     "text": [
      "YES\n"
     ]
    }
   ],
   "source": [
    "text = input()\n",
    "print('YES' if text == text[::-1] else 'NO')"
   ]
  },
  {
   "cell_type": "markdown",
   "id": "e0fa909c-3f92-4c90-bbfb-c56fff3fd764",
   "metadata": {},
   "source": [
    "### F"
   ]
  },
  {
   "cell_type": "code",
   "execution_count": 27,
   "id": "a3c369ec-5113-430f-87bf-56ef89179ef8",
   "metadata": {},
   "outputs": [
    {
     "name": "stdin",
     "output_type": "stream",
     "text": [
      " березка елочка зайка волк березка\n",
      " сосна зайка сосна елочка зайка медведь\n",
      " сосна сосна сосна белочка сосна белочка\n"
     ]
    },
    {
     "name": "stdout",
     "output_type": "stream",
     "text": [
      "3\n"
     ]
    }
   ],
   "source": [
    "n = int(input())\n",
    "zaika = 0\n",
    "for i in range(n):\n",
    "    land = input()\n",
    "    zaika += land.count('зайка')\n",
    "print(zaika)"
   ]
  },
  {
   "cell_type": "markdown",
   "id": "42ecd825-1332-4c18-8494-3b7f63fe48f6",
   "metadata": {},
   "source": [
    "### G"
   ]
  },
  {
   "cell_type": "code",
   "execution_count": 41,
   "id": "2728c777-c169-439c-81e1-1aabda109b3c",
   "metadata": {},
   "outputs": [
    {
     "name": "stdin",
     "output_type": "stream",
     "text": [
      " 2 2\n"
     ]
    },
    {
     "name": "stdout",
     "output_type": "stream",
     "text": [
      "4\n"
     ]
    }
   ],
   "source": [
    "n = input()\n",
    "n = n.split()\n",
    "print(sum([int(num) for num in n]))"
   ]
  },
  {
   "cell_type": "code",
   "execution_count": 42,
   "id": "fb3c6498-85c5-4f14-a327-5a703dd44a85",
   "metadata": {},
   "outputs": [
    {
     "name": "stdin",
     "output_type": "stream",
     "text": [
      " 2 2\n"
     ]
    },
    {
     "name": "stdout",
     "output_type": "stream",
     "text": [
      "4\n"
     ]
    }
   ],
   "source": [
    "print(sum([int(num) for num in input().split()]))"
   ]
  },
  {
   "cell_type": "markdown",
   "id": "c5bbb7e7-9bb9-42f9-8339-6869bfc82770",
   "metadata": {},
   "source": [
    "### H"
   ]
  },
  {
   "cell_type": "code",
   "execution_count": 49,
   "id": "dbe19862-8453-4a88-ab3a-c08b58a9b1a7",
   "metadata": {},
   "outputs": [
    {
     "name": "stdin",
     "output_type": "stream",
     "text": [
      " сосна сосна сосна белочка сосна белочка\n"
     ]
    },
    {
     "name": "stdout",
     "output_type": "stream",
     "text": [
      "Заек нет =(\n"
     ]
    },
    {
     "name": "stdin",
     "output_type": "stream",
     "text": [
      " березка елочка зайка волк березка\n"
     ]
    },
    {
     "name": "stdout",
     "output_type": "stream",
     "text": [
      "16\n"
     ]
    },
    {
     "name": "stdin",
     "output_type": "stream",
     "text": [
      " сосна зайка сосна елочка зайка медведь\n"
     ]
    },
    {
     "name": "stdout",
     "output_type": "stream",
     "text": [
      "7\n"
     ]
    }
   ],
   "source": [
    "n = int(input())\n",
    "for i in range(n):\n",
    "    land = input()\n",
    "    if 'зайка' in land:\n",
    "        print(land.find('зайка') + 1)\n",
    "    else:\n",
    "        print('Заек нет =(')"
   ]
  },
  {
   "cell_type": "markdown",
   "id": "08ba1cd3-cd13-4346-88cb-11760353998b",
   "metadata": {},
   "source": [
    "### I"
   ]
  },
  {
   "cell_type": "code",
   "execution_count": 61,
   "id": "f50c41d6-84f2-48c8-a5ad-435ea4a8ad29",
   "metadata": {},
   "outputs": [
    {
     "name": "stdin",
     "output_type": "stream",
     "text": [
      " # Моя первая супер-пупер программа\n",
      " print(\"What is your name?\") #  Как тебя зовут?\n"
     ]
    },
    {
     "name": "stdout",
     "output_type": "stream",
     "text": [
      "print(\"What is your name?\") \n"
     ]
    },
    {
     "name": "stdin",
     "output_type": "stream",
     "text": [
      " \n"
     ]
    }
   ],
   "source": [
    "while text := input():\n",
    "    if text[0] != '#':\n",
    "        if '#' in text:\n",
    "            n = text.find('#')\n",
    "            print(text[:n])\n",
    "        else:\n",
    "            print(text)"
   ]
  },
  {
   "cell_type": "code",
   "execution_count": null,
   "id": "59dea51a-4d56-4c91-853f-6ca81a1f1e70",
   "metadata": {},
   "outputs": [],
   "source": [
    "while text := input():\n",
    "    if '#' in text:\n",
    "        n = text.find('#')\n",
    "        if n != 0:\n",
    "            print(text[:n])\n",
    "    else:\n",
    "        print(text)"
   ]
  },
  {
   "cell_type": "markdown",
   "id": "7860ab69",
   "metadata": {},
   "source": [
    "### J"
   ]
  },
  {
   "cell_type": "code",
   "execution_count": 31,
   "id": "655fe95c",
   "metadata": {},
   "outputs": [
    {
     "name": "stdin",
     "output_type": "stream",
     "text": [
      " Финики Фокачча Зайка\n",
      " Филин Фосфор Светофор\n",
      " Фехтовальщик Форма\n",
      " ФИНИШ\n"
     ]
    },
    {
     "name": "stdout",
     "output_type": "stream",
     "text": [
      "финикифокаччазайкафилинфосфорсветофорфехтовальщикформа\n",
      "ф\n"
     ]
    }
   ],
   "source": [
    "wholetext = []\n",
    "tex = []\n",
    "a = 0\n",
    "while (text := input()) != 'ФИНИШ':\n",
    "    text = text.lower()\n",
    "    for word in text.split():\n",
    "        wholetext.append(word)\n",
    "tex = ''.join(wholetext)\n",
    "for letter in tex:\n",
    "    if tex.count(letter) > a:\n",
    "        a = tex.count(letter)\n",
    "        b = letter\n",
    "print(b)"
   ]
  },
  {
   "cell_type": "code",
   "execution_count": 35,
   "id": "801dc750-261b-4171-892f-885c197aa91d",
   "metadata": {},
   "outputs": [
    {
     "name": "stdin",
     "output_type": "stream",
     "text": [
      " Финики Фокачча Зайка\n",
      " ФИНИШ\n"
     ]
    },
    {
     "name": "stdout",
     "output_type": "stream",
     "text": [
      "а\n"
     ]
    }
   ],
   "source": [
    "whole_text = []\n",
    "a = 0\n",
    "while (text := input()) != 'ФИНИШ':\n",
    "    for word in text.split():\n",
    "        whole_text.append(word.lower())\n",
    "tex = ''.join(whole_text)\n",
    "for letter in sorted(list(set(tex))):\n",
    "    if tex.count(letter) > a:\n",
    "        a = tex.count(letter)\n",
    "        b = letter\n",
    "print(b)"
   ]
  },
  {
   "cell_type": "code",
   "execution_count": 25,
   "id": "1e53a6ff-6462-4061-a331-71c54c2cba4a",
   "metadata": {},
   "outputs": [
    {
     "name": "stdin",
     "output_type": "stream",
     "text": [
      " Финики Фокачча Зайка\n",
      " Филин Фосфор Светофо\n",
      " ФИНИШ\n"
     ]
    },
    {
     "name": "stdout",
     "output_type": "stream",
     "text": [
      "ф\n"
     ]
    }
   ],
   "source": [
    "whole_text = []\n",
    "while (text := input()) != 'ФИНИШ':\n",
    "    for word in text.split():\n",
    "        whole_text.append(word.lower())\n",
    "tex = ''.join(whole_text)\n",
    "print(max(tex, key = tex.count))"
   ]
  },
  {
   "cell_type": "code",
   "execution_count": 26,
   "id": "45d3bcb6-c8bb-49fd-96e2-b4ae3b401abf",
   "metadata": {},
   "outputs": [
    {
     "name": "stdin",
     "output_type": "stream",
     "text": [
      " Финики Фокачча Зайка\n",
      " Филин Фосфор Светофор\n",
      " Фехтовальщик Форма\n",
      " ФИНИШ\n"
     ]
    },
    {
     "name": "stdout",
     "output_type": "stream",
     "text": [
      "ф\n"
     ]
    }
   ],
   "source": [
    "whole_text = ''\n",
    "while (text := input()) != 'ФИНИШ':\n",
    "    for word in text.split():\n",
    "        whole_text = ''.join([whole_text, word.lower()])\n",
    "print(max(whole_text, key = whole_text.count))"
   ]
  },
  {
   "cell_type": "code",
   "execution_count": 3,
   "id": "930f6309-ff8f-4bd6-9391-336b5756a1c2",
   "metadata": {},
   "outputs": [
    {
     "name": "stdin",
     "output_type": "stream",
     "text": [
      " Финики Фокачча Зайка\n",
      " Филин Фосфор Светофор\n",
      " Фехтовальщик Форма\n",
      " ФИНИШ\n"
     ]
    },
    {
     "name": "stdout",
     "output_type": "stream",
     "text": [
      "ф\n"
     ]
    }
   ],
   "source": [
    "whole_text = {}\n",
    "a = 0\n",
    "while (text := input()) != 'ФИНИШ':\n",
    "    for word in text.split():\n",
    "        for letter in word.lower():\n",
    "            whole_text[letter] = whole_text.get(letter, 0) + 1\n",
    "for key, value in whole_text.items():\n",
    "    if value > a:\n",
    "        a = value\n",
    "        b = key\n",
    "print(b)"
   ]
  },
  {
   "cell_type": "code",
   "execution_count": 11,
   "id": "64082253-6360-4c75-8629-656caae1a019",
   "metadata": {},
   "outputs": [],
   "source": [
    "whole_text = {}"
   ]
  },
  {
   "cell_type": "code",
   "execution_count": 17,
   "id": "a63f2f10-3e3d-4e70-941d-38116f7fb46e",
   "metadata": {},
   "outputs": [],
   "source": [
    "whole_text[\"z\"] = whole_text.get(\"z\", 0) + 1"
   ]
  },
  {
   "cell_type": "code",
   "execution_count": 18,
   "id": "5d118f87-0f78-411d-ad36-efc28cee3057",
   "metadata": {},
   "outputs": [
    {
     "data": {
      "text/plain": [
       "{'z': 4}"
      ]
     },
     "execution_count": 18,
     "metadata": {},
     "output_type": "execute_result"
    }
   ],
   "source": [
    "whole_text"
   ]
  },
  {
   "cell_type": "code",
   "execution_count": 22,
   "id": "b703400d-2e90-4aac-b824-b9aff9f8eae3",
   "metadata": {},
   "outputs": [
    {
     "data": {
      "text/plain": [
       "'d'"
      ]
     },
     "execution_count": 22,
     "metadata": {},
     "output_type": "execute_result"
    }
   ],
   "source": [
    "abc = 'jsgjflsdaflhljghgffhhhhhhhhhhh'\n",
    "min(abc, key = abc.count)"
   ]
  },
  {
   "cell_type": "code",
   "execution_count": 23,
   "id": "11436714-bb84-454f-a07e-0625915697ea",
   "metadata": {},
   "outputs": [
    {
     "data": {
      "text/plain": [
       "'a'"
      ]
     },
     "execution_count": 23,
     "metadata": {},
     "output_type": "execute_result"
    }
   ],
   "source": [
    "min(abc)"
   ]
  }
 ],
 "metadata": {
  "kernelspec": {
   "display_name": "Python 3 (ipykernel)",
   "language": "python",
   "name": "python3"
  },
  "language_info": {
   "codemirror_mode": {
    "name": "ipython",
    "version": 3
   },
   "file_extension": ".py",
   "mimetype": "text/x-python",
   "name": "python",
   "nbconvert_exporter": "python",
   "pygments_lexer": "ipython3",
   "version": "3.9.7"
  }
 },
 "nbformat": 4,
 "nbformat_minor": 5
}
