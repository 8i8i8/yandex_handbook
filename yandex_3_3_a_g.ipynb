{
 "cells": [
  {
   "cell_type": "markdown",
   "id": "a532cbcb-7366-4199-942e-043dfbfce801",
   "metadata": {},
   "source": [
    "### A"
   ]
  },
  {
   "cell_type": "code",
   "execution_count": 17,
   "id": "ce421f73-e8fc-4425-9846-7605d39ed750",
   "metadata": {},
   "outputs": [
    {
     "data": {
      "text/plain": [
       "[25, 36, 49]"
      ]
     },
     "execution_count": 17,
     "metadata": {},
     "output_type": "execute_result"
    }
   ],
   "source": [
    "[i * i for i in range(a, b + 1)]"
   ]
  },
  {
   "cell_type": "markdown",
   "id": "12ffb6b2-0997-482f-bcc9-1f45f2a6598e",
   "metadata": {},
   "source": [
    "### B"
   ]
  },
  {
   "cell_type": "code",
   "execution_count": 23,
   "id": "ee8ed68b-d53c-4acd-a1ce-36c679b5323f",
   "metadata": {},
   "outputs": [
    {
     "data": {
      "text/plain": [
       "[[1, 2, 3], [2, 4, 6], [3, 6, 9]]"
      ]
     },
     "execution_count": 23,
     "metadata": {},
     "output_type": "execute_result"
    }
   ],
   "source": [
    "n = 3\n",
    "[[i * j for i in range(1, n + 1)] for j in range(1, n + 1)]"
   ]
  },
  {
   "cell_type": "markdown",
   "id": "17bb95a3-360e-4d05-934b-909a028374d2",
   "metadata": {},
   "source": [
    "### C"
   ]
  },
  {
   "cell_type": "code",
   "execution_count": 27,
   "id": "ac0dbcb5-336f-4b09-8193-28f61344c91e",
   "metadata": {},
   "outputs": [
    {
     "data": {
      "text/plain": [
       "[5, 5, 1, 4, 2, 10]"
      ]
     },
     "execution_count": 27,
     "metadata": {},
     "output_type": "execute_result"
    }
   ],
   "source": [
    "sentence = 'Ехали зайка и кита на велосипеде'\n",
    "[len(word) for word in sentence.split()]"
   ]
  },
  {
   "cell_type": "markdown",
   "id": "44d3a45c-033a-406a-8545-1d609a72864a",
   "metadata": {},
   "source": [
    "### D"
   ]
  },
  {
   "cell_type": "code",
   "execution_count": 45,
   "id": "77ee50ef-fac9-4eb9-9119-c8b486ad2e3c",
   "metadata": {},
   "outputs": [
    {
     "data": {
      "text/plain": [
       "{1, 3, 5}"
      ]
     },
     "execution_count": 45,
     "metadata": {},
     "output_type": "execute_result"
    }
   ],
   "source": [
    "numbers = [1, 2, 3, 4, 5]\n",
    "{number for number in numbers if number % 2 == 1}"
   ]
  },
  {
   "cell_type": "markdown",
   "id": "f483fe06-cd05-41a6-bedf-59975bc6259c",
   "metadata": {},
   "source": [
    "### E"
   ]
  },
  {
   "cell_type": "code",
   "execution_count": 51,
   "id": "1da485e5-888a-43dd-8ab5-bf73029c6fbd",
   "metadata": {},
   "outputs": [
    {
     "data": {
      "text/plain": [
       "{1, 4}"
      ]
     },
     "execution_count": 51,
     "metadata": {},
     "output_type": "execute_result"
    }
   ],
   "source": [
    "numbers = [1, 2, 3, 4, 5]\n",
    "{num for num in numbers if num**(1/2) % 1 == 0}"
   ]
  },
  {
   "cell_type": "markdown",
   "id": "b111447f-70c7-4401-a862-537f5e3f9769",
   "metadata": {},
   "source": [
    "### F"
   ]
  },
  {
   "cell_type": "code",
   "execution_count": 1,
   "id": "ce957f4a-6401-47d1-9e4c-c424fc2a4c32",
   "metadata": {},
   "outputs": [
    {
     "name": "stdout",
     "output_type": "stream",
     "text": [
      "{'м': 4, 'а': 4, 'ы': 1, 'л': 1, 'р': 1, 'у': 1}\n"
     ]
    }
   ],
   "source": [
    "text = 'Мама мыла раму!'\n",
    "alphabet = {}\n",
    "for letter in text.lower():\n",
    "    if letter.isalpha():\n",
    "        alphabet[letter] = alphabet.get(letter, 0) + 1\n",
    "print(alphabet)"
   ]
  },
  {
   "cell_type": "code",
   "execution_count": 9,
   "id": "14bdc950-4433-43a7-947e-b90a1137753e",
   "metadata": {},
   "outputs": [
    {
     "data": {
      "text/plain": [
       "{'р': 1, 'л': 1, 'м': 4, 'ы': 1, 'у': 1, 'а': 4}"
      ]
     },
     "execution_count": 9,
     "metadata": {},
     "output_type": "execute_result"
    }
   ],
   "source": [
    "text = 'Мама мыла раму!'\n",
    "{letter: text.lower().count(letter) for letter in set(text.lower()) if letter.isalpha()}"
   ]
  },
  {
   "cell_type": "markdown",
   "id": "8bd24cc7-21e2-4513-8d5c-dea66bdd6afb",
   "metadata": {},
   "source": [
    "### G"
   ]
  },
  {
   "cell_type": "code",
   "execution_count": 4,
   "id": "8b03a8ad-8b2e-4041-bf37-b98ef28d3d77",
   "metadata": {},
   "outputs": [
    {
     "name": "stdout",
     "output_type": "stream",
     "text": [
      "{49: [1, 7, 49], 36: [1, 2, 3, 4, 6, 9, 12, 18, 36], 15: [1, 3, 5, 15]}\n"
     ]
    }
   ],
   "source": [
    "numbers = {15, 49, 36}\n",
    "divider = []\n",
    "division = {}\n",
    "for num in numbers:\n",
    "    for i in range(1, num + 1):\n",
    "        if num % i == 0:\n",
    "            divider.append(i)\n",
    "    division[num] = divider\n",
    "    divider = []\n",
    "print(division)"
   ]
  },
  {
   "cell_type": "code",
   "execution_count": 7,
   "id": "c426f0a1-8b44-4f57-a3ea-ff08c6295b2e",
   "metadata": {},
   "outputs": [
    {
     "data": {
      "text/plain": [
       "{49: [1, 7, 49], 36: [1, 2, 3, 4, 6, 9, 12, 18, 36], 15: [1, 3, 5, 15]}"
      ]
     },
     "execution_count": 7,
     "metadata": {},
     "output_type": "execute_result"
    }
   ],
   "source": [
    "numbers = {15, 49, 36}\n",
    "{num: [i for i in range(1, num + 1) if num % i == 0] for num in numbers}"
   ]
  }
 ],
 "metadata": {
  "kernelspec": {
   "display_name": "Python 3 (ipykernel)",
   "language": "python",
   "name": "python3"
  },
  "language_info": {
   "codemirror_mode": {
    "name": "ipython",
    "version": 3
   },
   "file_extension": ".py",
   "mimetype": "text/x-python",
   "name": "python",
   "nbconvert_exporter": "python",
   "pygments_lexer": "ipython3",
   "version": "3.9.7"
  }
 },
 "nbformat": 4,
 "nbformat_minor": 5
}
