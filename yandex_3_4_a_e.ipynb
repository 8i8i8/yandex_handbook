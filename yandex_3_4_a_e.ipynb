{
 "cells": [
  {
   "cell_type": "markdown",
   "id": "d15fca7f-3ff2-4f55-98cf-25fe458cf079",
   "metadata": {},
   "source": [
    "### A"
   ]
  },
  {
   "cell_type": "code",
   "execution_count": 8,
   "id": "05dfaf39-961b-452f-8853-72ce7307a8c4",
   "metadata": {},
   "outputs": [
    {
     "name": "stdout",
     "output_type": "stream",
     "text": [
      "1. картина\n",
      "2. корзина\n",
      "3. картонка\n"
     ]
    }
   ],
   "source": [
    "for index, value in enumerate(input().split(), 1):\n",
    "    print(f'{index}. {value}')"
   ]
  },
  {
   "cell_type": "code",
   "execution_count": 20,
   "id": "8c1c8f9a-65a3-4eb7-940d-6cc1c594a766",
   "metadata": {},
   "outputs": [
    {
     "name": "stdin",
     "output_type": "stream",
     "text": [
      " картина корзина картонка\n"
     ]
    },
    {
     "name": "stdout",
     "output_type": "stream",
     "text": [
      "1. картина\n",
      "2. корзина\n",
      "3. картонка\n"
     ]
    }
   ],
   "source": [
    "print(\n",
    "    '\\n'.join(\n",
    "        [\n",
    "            f'{index}. {value}' for index, value in enumerate(input().split(), 1)\n",
    "        ]\n",
    "    )\n",
    ")"
   ]
  },
  {
   "cell_type": "markdown",
   "id": "4f34ed7a-af87-403d-8aaf-c2955e6d510e",
   "metadata": {},
   "source": [
    "### B"
   ]
  },
  {
   "cell_type": "code",
   "execution_count": 11,
   "id": "7008f265-d066-4498-9131-668b18d7387a",
   "metadata": {},
   "outputs": [
    {
     "name": "stdout",
     "output_type": "stream",
     "text": [
      "Аня - Боря\n",
      "Вова - Дима\n"
     ]
    }
   ],
   "source": [
    "group_1 = input()\n",
    "group_2 = input()\n",
    "pairs = list(zip(group_1.split(', '), group_2.split(', ')))\n",
    "for pair in pairs:\n",
    "    print(pair[0], '-', pair[1])"
   ]
  },
  {
   "cell_type": "code",
   "execution_count": 17,
   "id": "b7828ffa-1dbf-4d15-bd77-849e2c1b651d",
   "metadata": {},
   "outputs": [
    {
     "name": "stdin",
     "output_type": "stream",
     "text": [
      " Аня, Вова\n",
      " Боря, Дима, Гена\n"
     ]
    },
    {
     "name": "stdout",
     "output_type": "stream",
     "text": [
      "Аня - Боря\n",
      "Вова - Дима\n"
     ]
    }
   ],
   "source": [
    "print(\n",
    "    '\\n'.join(\n",
    "        [\n",
    "            f'{pair[0]} - {pair[1]}'\n",
    "            for pair in \n",
    "            list(zip(input().split(', '), input().split(', ')))\n",
    "        ]\n",
    "    )\n",
    ")"
   ]
  },
  {
   "cell_type": "markdown",
   "id": "2b1cada3-fa2c-4b71-97e9-e2bb2dacb952",
   "metadata": {},
   "source": [
    "### C"
   ]
  },
  {
   "cell_type": "code",
   "execution_count": 42,
   "id": "c8e28c1e-e92c-46bd-b4d9-142832344874",
   "metadata": {},
   "outputs": [
    {
     "name": "stdin",
     "output_type": "stream",
     "text": [
      " 3.2 6.4 0.8\n"
     ]
    },
    {
     "name": "stdout",
     "output_type": "stream",
     "text": [
      "3.2\n",
      "4.0\n",
      "4.8\n",
      "5.6\n",
      "6.4\n"
     ]
    }
   ],
   "source": [
    "from itertools import count\n",
    "\n",
    "numbers = input().split()\n",
    "for value in count(float(numbers[0]), float(numbers[2])):\n",
    "    if value <= float(numbers[1]):\n",
    "        print(round(value, 2))\n",
    "    else:\n",
    "        break"
   ]
  },
  {
   "cell_type": "code",
   "execution_count": 43,
   "id": "2f5fb52e-b839-46c9-a4c8-890a59baee16",
   "metadata": {},
   "outputs": [
    {
     "name": "stdin",
     "output_type": "stream",
     "text": [
      " 3.2 6.4 0.8\n"
     ]
    },
    {
     "name": "stdout",
     "output_type": "stream",
     "text": [
      "3.2\n",
      "4.0\n",
      "4.8\n",
      "5.6\n",
      "6.4\n"
     ]
    }
   ],
   "source": [
    "from itertools import count\n",
    "\n",
    "start, stop, step = (float(num) for num in input().split())\n",
    "for value in count(start, step):\n",
    "    if value <= stop:\n",
    "        print(round(value, 2))\n",
    "    else:\n",
    "        break"
   ]
  },
  {
   "cell_type": "markdown",
   "id": "61926731-e2c1-41d9-bdcf-4fee86f2f849",
   "metadata": {},
   "source": [
    "### D"
   ]
  },
  {
   "cell_type": "code",
   "execution_count": 12,
   "id": "7377d423-d1bf-4a86-b413-c735bdfb8731",
   "metadata": {},
   "outputs": [
    {
     "name": "stdin",
     "output_type": "stream",
     "text": [
      " мама мыла раму\n"
     ]
    },
    {
     "name": "stdout",
     "output_type": "stream",
     "text": [
      "мама\n",
      "мама мыла\n",
      "мама мыла раму\n"
     ]
    }
   ],
   "source": [
    "from itertools import accumulate\n",
    "\n",
    "tree = [[word] for word in input().split()]\n",
    "for branch in accumulate(tree):\n",
    "    print(\" \".join(branch))"
   ]
  },
  {
   "cell_type": "markdown",
   "id": "8552507b-e9c5-42f2-8e21-f503cebac736",
   "metadata": {},
   "source": [
    "### E"
   ]
  },
  {
   "cell_type": "code",
   "execution_count": 19,
   "id": "b274465b-6be9-445a-9b27-e302bf4f9e89",
   "metadata": {},
   "outputs": [
    {
     "name": "stdin",
     "output_type": "stream",
     "text": [
      " картина, корзина, картонка\n",
      " мыло, манка\n",
      " олоко, хлеб, сыр\n"
     ]
    },
    {
     "name": "stdout",
     "output_type": "stream",
     "text": [
      "1. картина\n",
      "2. картонка\n",
      "3. корзина\n",
      "4. манка\n",
      "5. мыло\n",
      "6. олоко\n",
      "7. сыр\n",
      "8. хлеб\n"
     ]
    }
   ],
   "source": [
    "buy_list = [word for num in range(3) for word in input().split(', ')]\n",
    "for index, value in enumerate(sorted(buy_list), 1):\n",
    "    print(f'{index}. {value}')"
   ]
  }
 ],
 "metadata": {
  "kernelspec": {
   "display_name": "Python 3 (ipykernel)",
   "language": "python",
   "name": "python3"
  },
  "language_info": {
   "codemirror_mode": {
    "name": "ipython",
    "version": 3
   },
   "file_extension": ".py",
   "mimetype": "text/x-python",
   "name": "python",
   "nbconvert_exporter": "python",
   "pygments_lexer": "ipython3",
   "version": "3.9.7"
  }
 },
 "nbformat": 4,
 "nbformat_minor": 5
}
