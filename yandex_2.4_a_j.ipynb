{
 "cells": [
  {
   "cell_type": "markdown",
   "id": "1db42bf1-4815-4cb1-bcc1-d0a772168732",
   "metadata": {},
   "source": [
    "### A"
   ]
  },
  {
   "cell_type": "code",
   "execution_count": 26,
   "id": "4afc086e-0b53-47d0-9746-7d0fe1092d80",
   "metadata": {},
   "outputs": [
    {
     "name": "stdin",
     "output_type": "stream",
     "text": [
      " 5\n"
     ]
    },
    {
     "name": "stdout",
     "output_type": "stream",
     "text": [
      "1 2 3 4 5 \n",
      "2 4 6 8 10 \n",
      "3 6 9 12 15 \n",
      "4 8 12 16 20 \n",
      "5 10 15 20 25 \n"
     ]
    }
   ],
   "source": [
    "n = int(input())\n",
    "for i in range(1, n + 1):\n",
    "    for j in range(1, n + 1):\n",
    "        print(i * j, end=' ')\n",
    "    print()"
   ]
  },
  {
   "cell_type": "markdown",
   "id": "b1023261",
   "metadata": {},
   "source": [
    "### B"
   ]
  },
  {
   "cell_type": "code",
   "execution_count": 6,
   "id": "11c6970f",
   "metadata": {},
   "outputs": [
    {
     "name": "stdout",
     "output_type": "stream",
     "text": [
      "3\n",
      "1 * 1 = 1\n",
      "2 * 1 = 2\n",
      "3 * 1 = 3\n",
      "1 * 2 = 2\n",
      "2 * 2 = 4\n",
      "3 * 2 = 6\n",
      "1 * 3 = 3\n",
      "2 * 3 = 6\n",
      "3 * 3 = 9\n"
     ]
    }
   ],
   "source": [
    "n = int(input())\n",
    "for i in range(1, n + 1):\n",
    "    for j in range(1, n + 1):\n",
    "        print(f'{j} * {i} = {i * j}')"
   ]
  },
  {
   "cell_type": "markdown",
   "id": "610ce489",
   "metadata": {},
   "source": [
    "### C"
   ]
  },
  {
   "cell_type": "code",
   "execution_count": 138,
   "id": "c39a5615",
   "metadata": {},
   "outputs": [
    {
     "name": "stdout",
     "output_type": "stream",
     "text": [
      "10\n",
      "\n",
      "1 \n",
      "2 3 \n",
      "4 5 6 \n",
      "7 8 9 10 "
     ]
    }
   ],
   "source": [
    "n = int(input())\n",
    "a = 1\n",
    "for i in range(n + 1):\n",
    "    for j in range(i):\n",
    "        if a == n + 1:\n",
    "            break\n",
    "        print(a, end=' ')\n",
    "        a += 1\n",
    "    if a == n + 1:\n",
    "        break\n",
    "    print()"
   ]
  },
  {
   "cell_type": "code",
   "execution_count": 137,
   "id": "809b2d18",
   "metadata": {},
   "outputs": [
    {
     "name": "stdout",
     "output_type": "stream",
     "text": [
      "50\n",
      "1 \n",
      "2 3 \n",
      "4 5 6 \n",
      "7 8 9 10 \n",
      "11 12 13 14 15 \n",
      "16 17 18 19 20 21 \n",
      "22 23 24 25 26 27 28 \n",
      "29 30 31 32 33 34 35 36 \n",
      "37 38 39 40 41 42 43 44 45 \n",
      "46 47 48 49 50 \n"
     ]
    }
   ],
   "source": [
    "a = int(input())\n",
    "t = 0\n",
    "bp = 1\n",
    "flag = 0\n",
    "for b in range(1, a + 1):\n",
    "    if flag == 1: \n",
    "        break\n",
    "    else:\n",
    "        for c in range(0, b):\n",
    "            if c + bp > a:\n",
    "                flag += 1\n",
    "                break\n",
    "            else:\n",
    "                print(c + bp, end=\" \")\n",
    "                t += 1\n",
    "    print()\n",
    "    bp += t\n",
    "    t = 0 "
   ]
  },
  {
   "cell_type": "markdown",
   "id": "355e8764",
   "metadata": {},
   "source": [
    "### D"
   ]
  },
  {
   "cell_type": "code",
   "execution_count": 128,
   "id": "732eb57d",
   "metadata": {},
   "outputs": [
    {
     "name": "stdout",
     "output_type": "stream",
     "text": [
      "5\n",
      "1\n",
      "2\n",
      "3\n",
      "4\n",
      "5\n",
      "15\n"
     ]
    }
   ],
   "source": [
    "n = int(input())\n",
    "summ = 0\n",
    "for i in range(n):\n",
    "    a = int(input())\n",
    "    while a > 0:\n",
    "        b = a % 10\n",
    "        summ = summ + b\n",
    "        a = a // 10\n",
    "print(summ)"
   ]
  },
  {
   "cell_type": "markdown",
   "id": "39d51efd",
   "metadata": {},
   "source": [
    "### E"
   ]
  },
  {
   "cell_type": "code",
   "execution_count": 24,
   "id": "edc4d53d",
   "metadata": {},
   "outputs": [
    {
     "name": "stdin",
     "output_type": "stream",
     "text": [
      " 2\n",
      " gsejrfofjse\n",
      " зайка\n",
      " зайка\n",
      " ымвопз\n",
      " ВСЁ\n",
      " ышукопзужы\n",
      " мдол\n",
      " ВСЁ\n"
     ]
    },
    {
     "name": "stdout",
     "output_type": "stream",
     "text": [
      "1\n"
     ]
    }
   ],
   "source": [
    "n = int(input())\n",
    "zaika = 0\n",
    "for i in range(n):\n",
    "    place = input()\n",
    "    flag = 0\n",
    "    while place != 'ВСЁ':\n",
    "        if 'зайка' in place:\n",
    "            flag += 1 \n",
    "        place = input()\n",
    "    if flag >= 1:\n",
    "        zaika += 1\n",
    "print(zaika)"
   ]
  },
  {
   "cell_type": "markdown",
   "id": "bbab46f2-86ae-4c7b-8dc3-d9b7d915fddd",
   "metadata": {},
   "source": [
    "### F"
   ]
  },
  {
   "cell_type": "code",
   "execution_count": 4,
   "id": "3a2d3762-0014-47a7-941e-0226c197e065",
   "metadata": {},
   "outputs": [
    {
     "name": "stdin",
     "output_type": "stream",
     "text": [
      " 3\n",
      " 102\n",
      " 39\n",
      " 768\n"
     ]
    },
    {
     "name": "stdout",
     "output_type": "stream",
     "text": [
      "3\n"
     ]
    }
   ],
   "source": [
    "n = int(input())\n",
    "a = int(input())\n",
    "for i in range(n - 1):\n",
    "    b = int(input())\n",
    "    while a != 0 and b != 0:\n",
    "        if a > b:\n",
    "            a = a % b\n",
    "        else:\n",
    "            b = b % a\n",
    "    a = a + b\n",
    "print(a)"
   ]
  },
  {
   "cell_type": "markdown",
   "id": "c70b6b0d",
   "metadata": {},
   "source": [
    "### G"
   ]
  },
  {
   "cell_type": "code",
   "execution_count": 15,
   "id": "81006487",
   "metadata": {},
   "outputs": [
    {
     "name": "stdout",
     "output_type": "stream",
     "text": [
      "1\n",
      "До старта 3 секунд(ы)\n",
      "До старта 2 секунд(ы)\n",
      "До старта 1 секунд(ы)\n",
      "Старт 1!!!\n"
     ]
    }
   ],
   "source": [
    "n = int(input())\n",
    "a = 3\n",
    "for i in range(1, n + 1):\n",
    "    for j in range(a, 0, -1):\n",
    "        print(f'До старта {j} секунд(ы)')\n",
    "    print(f'Старт {i}!!!')\n",
    "    a += 1"
   ]
  },
  {
   "cell_type": "markdown",
   "id": "c854812c",
   "metadata": {},
   "source": [
    "### H"
   ]
  },
  {
   "cell_type": "code",
   "execution_count": 37,
   "id": "7788996f",
   "metadata": {},
   "outputs": [
    {
     "name": "stdout",
     "output_type": "stream",
     "text": [
      "2\n",
      "sghjk\n",
      "789\n",
      "gskj\n",
      "456\n",
      "sghjk\n"
     ]
    }
   ],
   "source": [
    "n = int(input())\n",
    "biggest = 0\n",
    "for i in range(n):\n",
    "    summ = 0\n",
    "    name = input()\n",
    "    number = int(input())\n",
    "    while number > 0:\n",
    "        b = number % 10\n",
    "        summ = summ + b\n",
    "        number = number // 10\n",
    "    if summ >= biggest:\n",
    "        biggest = summ\n",
    "        winner = name\n",
    "print(winner)"
   ]
  },
  {
   "cell_type": "markdown",
   "id": "1b654349",
   "metadata": {},
   "source": [
    "### I"
   ]
  },
  {
   "cell_type": "code",
   "execution_count": 48,
   "id": "5c603d24",
   "metadata": {},
   "outputs": [
    {
     "name": "stdin",
     "output_type": "stream",
     "text": [
      " 2\n",
      " 123\n",
      " 234\n"
     ]
    },
    {
     "name": "stdout",
     "output_type": "stream",
     "text": [
      "34\n"
     ]
    }
   ],
   "source": [
    "n = int(input())\n",
    "tot = \"\"\n",
    "for i in range(n):\n",
    "    gr = 0\n",
    "    number = int(input())\n",
    "    while number > 0:\n",
    "        b = number % 10\n",
    "        number = number // 10\n",
    "        if b >= gr:\n",
    "            gr = b\n",
    "    tot += str(gr)\n",
    "print(tot)"
   ]
  },
  {
   "cell_type": "markdown",
   "id": "c25d14dd-20ae-4aa2-b45a-0da9d8ec3da1",
   "metadata": {},
   "source": [
    "### J"
   ]
  },
  {
   "cell_type": "code",
   "execution_count": 94,
   "id": "2f441e5e-3883-403d-8dcf-f931f76487df",
   "metadata": {},
   "outputs": [
    {
     "name": "stdin",
     "output_type": "stream",
     "text": [
      " 6\n"
     ]
    },
    {
     "name": "stdout",
     "output_type": "stream",
     "text": [
      "А Б В\n",
      "1 1 4\n",
      "1 2 3\n",
      "1 3 2\n",
      "1 4 1\n",
      "2 1 3\n",
      "2 2 2\n",
      "2 3 1\n",
      "3 1 2\n",
      "3 2 1\n",
      "4 1 1\n"
     ]
    }
   ],
   "source": [
    "orange = int(input())\n",
    "print('А Б В')\n",
    "for i in range(1, orange):\n",
    "    for j in range(1, orange):\n",
    "        for k in range(1, orange):\n",
    "            if sum([i, j, k]) == orange:\n",
    "                print(i, j, k)"
   ]
  }
 ],
 "metadata": {
  "kernelspec": {
   "display_name": "Python 3 (ipykernel)",
   "language": "python",
   "name": "python3"
  },
  "language_info": {
   "codemirror_mode": {
    "name": "ipython",
    "version": 3
   },
   "file_extension": ".py",
   "mimetype": "text/x-python",
   "name": "python",
   "nbconvert_exporter": "python",
   "pygments_lexer": "ipython3",
   "version": "3.9.7"
  }
 },
 "nbformat": 4,
 "nbformat_minor": 5
}
