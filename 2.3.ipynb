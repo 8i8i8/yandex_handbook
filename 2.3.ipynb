{
 "cells": [
  {
   "cell_type": "code",
   "execution_count": 3,
   "id": "328f6a15",
   "metadata": {},
   "outputs": [
    {
     "name": "stdout",
     "output_type": "stream",
     "text": [
      "березка елочка зайка волк березка\n",
      "сосна сосна сосна елочка грибочки медведь\n",
      "сосна сосна сосна белочка сосна белочка\n",
      "Приехали!\n",
      "1\n"
     ]
    }
   ],
   "source": [
    "# B\n",
    "\n",
    "text = input()\n",
    "n = 0\n",
    "while text != \"Приехали!\":\n",
    "    if \"зайка\" in text:\n",
    "        n += 1\n",
    "    text = input()\n",
    "print(n)"
   ]
  },
  {
   "cell_type": "code",
   "execution_count": 14,
   "id": "31cf189a",
   "metadata": {},
   "outputs": [
    {
     "name": "stdout",
     "output_type": "stream",
     "text": [
      "сосна сосна сосна белочка сосна белочка\n",
      "березка елочка березка\n",
      "зайка китя березка\n",
      "Приехали!\n",
      "1\n"
     ]
    }
   ],
   "source": [
    "text = input()\n",
    "n = 0\n",
    "while text != \"Приехали!\":\n",
    "    if \"китя\" in text:\n",
    "        n += 1\n",
    "    text = input()\n",
    "print(n)"
   ]
  },
  {
   "cell_type": "code",
   "execution_count": 13,
   "id": "3448076a",
   "metadata": {},
   "outputs": [
    {
     "name": "stdout",
     "output_type": "stream",
     "text": [
      "-3\n",
      "3\n",
      "-3 -2 -1 0 1 2 3 "
     ]
    }
   ],
   "source": [
    "# C\n",
    "\n",
    "a = int(input())\n",
    "b = int(input())\n",
    "for i in range(a, b + 1):\n",
    "     print(i, end=\" \")"
   ]
  },
  {
   "cell_type": "code",
   "execution_count": 18,
   "id": "06012b09",
   "metadata": {},
   "outputs": [
    {
     "name": "stdin",
     "output_type": "stream",
     "text": [
      " -3\n",
      " 3\n"
     ]
    },
    {
     "name": "stdout",
     "output_type": "stream",
     "text": [
      "-3 -2 -1 0 1 2 3\n"
     ]
    }
   ],
   "source": [
    "def counting(a, b):\n",
    "    count = [str(n) for n in range(a, b + 1)]\n",
    "    return ' '.join(count)\n",
    "\n",
    "\n",
    "a = int(input())\n",
    "b = int(input())\n",
    "print(counting(a, b))\n",
    "assert counting(1, 10) == '1 2 3 4 5 6 7 8 9 10'\n",
    "assert counting(-3, 3) == '-3 -2 -1 0 1 2 3'\n",
    "assert counting(-3, 3) != '-3 -2 -1 0 1 2 3 4'"
   ]
  },
  {
   "cell_type": "code",
   "execution_count": 35,
   "id": "88986477",
   "metadata": {},
   "outputs": [
    {
     "name": "stdout",
     "output_type": "stream",
     "text": [
      "3\n",
      "-3\n",
      "3 2 1 0 -1 -2 -3 "
     ]
    }
   ],
   "source": [
    "# D\n",
    "\n",
    "a = int(input())\n",
    "b = int(input())\n",
    "if b < a:\n",
    "    for i in range(a, b - 1, -1):\n",
    "        print(i, end = \" \")\n",
    "else:\n",
    "    for i in range(a, b + 1):\n",
    "        print(i, end = \" \")"
   ]
  },
  {
   "cell_type": "code",
   "execution_count": 45,
   "id": "215d928b",
   "metadata": {},
   "outputs": [
    {
     "name": "stdout",
     "output_type": "stream",
     "text": [
      "100\n",
      "500\n",
      "333\n",
      "0\n",
      "883.0\n"
     ]
    }
   ],
   "source": [
    "# E\n",
    "\n",
    "total = 0\n",
    "price = float(input())\n",
    "while price != '0':\n",
    "    if float(price) >= 500:\n",
    "        total = total + float(price) * 0.9\n",
    "        price = input()\n",
    "    else:\n",
    "        total = total + float(price)\n",
    "        price = input()\n",
    "print(total)"
   ]
  },
  {
   "cell_type": "code",
   "execution_count": 56,
   "id": "7fb1964d",
   "metadata": {
    "scrolled": true
   },
   "outputs": [
    {
     "name": "stdout",
     "output_type": "stream",
     "text": [
      "512\n",
      "625\n",
      "1\n"
     ]
    }
   ],
   "source": [
    "# F\n",
    "\n",
    "a = int(input())\n",
    "b = int(input())\n",
    "while a != 0 and b != 0:\n",
    "    if a > b:\n",
    "        a = a % b\n",
    "    else:\n",
    "        b = b % a\n",
    "print(a + b)"
   ]
  },
  {
   "cell_type": "code",
   "execution_count": 3,
   "id": "760eb984",
   "metadata": {},
   "outputs": [
    {
     "name": "stdout",
     "output_type": "stream",
     "text": [
      "12\n",
      "42\n",
      "84\n"
     ]
    }
   ],
   "source": [
    "# G\n",
    "\n",
    "a = int(input())\n",
    "b = int(input())\n",
    "c = a\n",
    "d = b\n",
    "while c != 0 and d != 0:\n",
    "    if c > d:\n",
    "        c = c % d\n",
    "    else:\n",
    "        d = d % c\n",
    "nok = (a * b) / (c + d)\n",
    "print(int((nok)))"
   ]
  },
  {
   "cell_type": "code",
   "execution_count": 8,
   "id": "ab624f32",
   "metadata": {},
   "outputs": [
    {
     "name": "stdout",
     "output_type": "stream",
     "text": [
      "ghj\n",
      "3\n",
      "ghj\n",
      "ghj\n",
      "ghj\n"
     ]
    }
   ],
   "source": [
    "# H\n",
    "\n",
    "a = input()\n",
    "n = int(input())\n",
    "for i in range(n):\n",
    "    print(a)"
   ]
  },
  {
   "cell_type": "code",
   "execution_count": 3,
   "id": "26443295-8ad5-4db5-aff5-b1bd1bde9824",
   "metadata": {},
   "outputs": [
    {
     "name": "stdin",
     "output_type": "stream",
     "text": [
      " fjgfkgj\n",
      " 2\n"
     ]
    },
    {
     "name": "stdout",
     "output_type": "stream",
     "text": [
      "fjgfkgj\n",
      "fjgfkgj\n"
     ]
    }
   ],
   "source": [
    "a = input()\n",
    "n = int(input())\n",
    "def repeat(a, n):\n",
    "    while n:\n",
    "        print(a)\n",
    "        n -= 1\n",
    "repeat(a, n)"
   ]
  },
  {
   "cell_type": "code",
   "execution_count": 12,
   "id": "1df88f2a",
   "metadata": {},
   "outputs": [
    {
     "name": "stdout",
     "output_type": "stream",
     "text": [
      "5\n",
      "120\n"
     ]
    }
   ],
   "source": [
    "# I\n",
    "\n",
    "a = int(input())\n",
    "b = 1\n",
    "for i in range(0, a):\n",
    "    b += b * i\n",
    "print(b)"
   ]
  },
  {
   "cell_type": "code",
   "execution_count": 7,
   "id": "79067dcc",
   "metadata": {},
   "outputs": [
    {
     "name": "stdout",
     "output_type": "stream",
     "text": [
      "СЕВЕР\n",
      "2\n",
      "СТОП\n",
      "2\n",
      "0\n"
     ]
    }
   ],
   "source": [
    "# J\n",
    "\n",
    "x = 0\n",
    "y = 0\n",
    "way = input()\n",
    "while way != 'СТОП':\n",
    "    step = int(input())\n",
    "    if way == 'СЕВЕР':\n",
    "        y = y + step\n",
    "    elif way == 'ВОСТОК':\n",
    "        x = x + step\n",
    "    elif way == 'ЮГ':\n",
    "        y = y - step\n",
    "    elif way == 'ЗАПАД':\n",
    "        x = x - step\n",
    "    way = input()\n",
    "print(y)\n",
    "print(x)"
   ]
  },
  {
   "cell_type": "code",
   "execution_count": 11,
   "id": "0416836b",
   "metadata": {},
   "outputs": [
    {
     "name": "stdout",
     "output_type": "stream",
     "text": [
      "СЕВЕР\n",
      "2\n",
      "ВОСТОК\n",
      "2\n",
      "СТОП\n",
      "2\n",
      "2\n"
     ]
    }
   ],
   "source": [
    "ways = {'СЕВЕР': 0, 'ВОСТОК': 0, 'ЮГ': 0, 'ЗАПАД': 0}\n",
    "way = input()\n",
    "while way != 'СТОП':\n",
    "    ways[way] += int(input())\n",
    "    way = input()\n",
    "print(ways['СЕВЕР'] - ways['ЮГ'])\n",
    "print(ways['ВОСТОК'] - ways['ЗАПАД'])"
   ]
  }
 ],
 "metadata": {
  "kernelspec": {
   "display_name": "Python 3 (ipykernel)",
   "language": "python",
   "name": "python3"
  },
  "language_info": {
   "codemirror_mode": {
    "name": "ipython",
    "version": 3
   },
   "file_extension": ".py",
   "mimetype": "text/x-python",
   "name": "python",
   "nbconvert_exporter": "python",
   "pygments_lexer": "ipython3",
   "version": "3.9.7"
  }
 },
 "nbformat": 4,
 "nbformat_minor": 5
}
