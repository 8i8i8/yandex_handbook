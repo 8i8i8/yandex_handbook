{
 "cells": [
  {
   "cell_type": "code",
   "execution_count": null,
   "id": "c53054be-38d9-4454-8b2e-bde6417ce402",
   "metadata": {},
   "outputs": [],
   "source": [
    "a = input('Are you Kitya?')\n",
    "if a == 'yes':\n",
    "    print('I LOVE YOU')\n",
    "else:\n",
    "    print('I LOVE KITYA')"
   ]
  },
  {
   "cell_type": "code",
   "execution_count": 8,
   "id": "42f3cfa3-39d7-480d-9190-e8232cbb5a2c",
   "metadata": {},
   "outputs": [
    {
     "data": {
      "text/plain": [
       "'igdefZfJZpDwtDtM4aLP-sHnYFpFfiWgSbrJGxk5uzA'"
      ]
     },
     "execution_count": 8,
     "metadata": {},
     "output_type": "execute_result"
    }
   ],
   "source": [
    "import secrets\n",
    "password = secrets.token_urlsafe(32)\n",
    "password"
   ]
  }
 ],
 "metadata": {
  "kernelspec": {
   "display_name": "Python 3 (ipykernel)",
   "language": "python",
   "name": "python3"
  },
  "language_info": {
   "codemirror_mode": {
    "name": "ipython",
    "version": 3
   },
   "file_extension": ".py",
   "mimetype": "text/x-python",
   "name": "python",
   "nbconvert_exporter": "python",
   "pygments_lexer": "ipython3",
   "version": "3.9.7"
  }
 },
 "nbformat": 4,
 "nbformat_minor": 5
}
