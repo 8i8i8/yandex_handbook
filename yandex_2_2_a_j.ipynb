{
 "cells": [
  {
   "cell_type": "markdown",
   "id": "25086760",
   "metadata": {},
   "source": [
    "# 2.2 Условный оператор"
   ]
  },
  {
   "cell_type": "code",
   "execution_count": 5,
   "id": "b5e560c5",
   "metadata": {},
   "outputs": [
    {
     "name": "stdout",
     "output_type": "stream",
     "text": [
      "Как Вас зовут?\n",
      "Аня\n",
      "Здравствуйте, Аня!\n",
      "Как дела?\n",
      "хорошо\n",
      "Я за вас рада!\n"
     ]
    }
   ],
   "source": [
    "# A\n",
    "\n",
    "print('Как Вас зовут?')\n",
    "name = input()\n",
    "print(f'Здравствуйте, {name}!')\n",
    "print('Как дела?')\n",
    "mood = input()\n",
    "print('Я за вас рада!' if mood == 'хорошо'\n",
    "      else 'Всё наладится!')   "
   ]
  },
  {
   "cell_type": "code",
   "execution_count": 7,
   "id": "8bd70881",
   "metadata": {
    "scrolled": true
   },
   "outputs": [
    {
     "name": "stdout",
     "output_type": "stream",
     "text": [
      "Как Вас зовут?\n",
      "Боря\n",
      "Здравствуйте, Боря!\n",
      "Как дела?\n",
      "плохо\n",
      "Всё наладится!\n"
     ]
    }
   ],
   "source": [
    "print('Как Вас зовут?')\n",
    "print(f'Здравствуйте, {input()}!')\n",
    "print('Как дела?')\n",
    "print('Я за вас рада!' if input() == 'хорошо'\n",
    "      else 'Всё наладится!')"
   ]
  },
  {
   "cell_type": "code",
   "execution_count": 10,
   "id": "d1683643",
   "metadata": {},
   "outputs": [
    {
     "name": "stdout",
     "output_type": "stream",
     "text": [
      "10\n",
      "5\n",
      "Петя\n"
     ]
    }
   ],
   "source": [
    "# B\n",
    "\n",
    "petya = int(input())\n",
    "vasya = int(input())\n",
    "if petya > vasya:\n",
    "    print(\"Петя\")\n",
    "else: \n",
    "    print(\"Вася\")"
   ]
  },
  {
   "cell_type": "code",
   "execution_count": 11,
   "id": "b2880910",
   "metadata": {},
   "outputs": [
    {
     "name": "stdout",
     "output_type": "stream",
     "text": [
      "10\n",
      "5\n",
      "Петя\n"
     ]
    }
   ],
   "source": [
    "print(\"Петя\" if int(input()) > int(input())\n",
    "     else \"Вася\")"
   ]
  },
  {
   "cell_type": "code",
   "execution_count": 21,
   "id": "75037626",
   "metadata": {},
   "outputs": [
    {
     "name": "stdout",
     "output_type": "stream",
     "text": [
      "10\n",
      "7\n",
      "5\n",
      "Петя\n"
     ]
    }
   ],
   "source": [
    "# C\n",
    "\n",
    "d = {\"Петя\": int(input()),\n",
    "     \"Вася\": int(input()),\n",
    "     \"Толя\": int(input())}\n",
    "maximum = max(d.values())\n",
    "if d[\"Петя\"] == maximum:\n",
    "    print(\"Петя\")\n",
    "elif d[\"Вася\"] == maximum:\n",
    "    print(\"Вася\")\n",
    "else:\n",
    "    print(\"Толя\")"
   ]
  },
  {
   "cell_type": "code",
   "execution_count": 23,
   "id": "bbeabbef",
   "metadata": {},
   "outputs": [
    {
     "name": "stdout",
     "output_type": "stream",
     "text": [
      "10\n",
      "7\n",
      "5\n",
      "Петя\n"
     ]
    }
   ],
   "source": [
    "petya = int(input())\n",
    "vasya = int(input())\n",
    "tolya = int(input())\n",
    "maximum = max(petya, vasya, tolya)\n",
    "if petya == maximum:\n",
    "    print(\"Петя\")\n",
    "elif vasya == maximum:\n",
    "    print(\"Вася\")\n",
    "else:\n",
    "    print(\"Толя\")"
   ]
  },
  {
   "cell_type": "code",
   "execution_count": 24,
   "id": "65ddd435",
   "metadata": {},
   "outputs": [
    {
     "name": "stdout",
     "output_type": "stream",
     "text": [
      "10\n",
      "7\n",
      "5\n",
      "Петя\n"
     ]
    }
   ],
   "source": [
    "d = {\"Петя\": int(input()),\n",
    "     \"Вася\": int(input()),\n",
    "     \"Толя\": int(input())}\n",
    "print(max(d, key=d.get))"
   ]
  },
  {
   "cell_type": "code",
   "execution_count": 32,
   "id": "c0a0a0d3",
   "metadata": {},
   "outputs": [
    {
     "data": {
      "text/plain": [
       "7"
      ]
     },
     "execution_count": 32,
     "metadata": {},
     "output_type": "execute_result"
    }
   ],
   "source": [
    "median"
   ]
  },
  {
   "cell_type": "code",
   "execution_count": 29,
   "id": "588b8741",
   "metadata": {},
   "outputs": [
    {
     "name": "stdout",
     "output_type": "stream",
     "text": [
      "10\n",
      "5\n",
      "7\n",
      "1. Петя\n",
      "2. Толя\n",
      "3. Вася\n"
     ]
    }
   ],
   "source": [
    "# D\n",
    "\n",
    "scores = {int(input()): \"Петя\",\n",
    "          int(input()): \"Вася\",\n",
    "          int(input()): \"Толя\"}\n",
    "maximum = max(scores)\n",
    "minimum = min(scores)\n",
    "median = [i for i in scores if i != maximum and i != minimum][0]\n",
    "print(\"1.\", scores[maximum])\n",
    "print(\"2.\", scores[median])\n",
    "print(\"3.\", scores[minimum])"
   ]
  },
  {
   "cell_type": "code",
   "execution_count": 25,
   "id": "4811c9d4",
   "metadata": {},
   "outputs": [
    {
     "name": "stdout",
     "output_type": "stream",
     "text": [
      "10\n",
      "5\n",
      "7\n",
      "1. Петя\n",
      "2. Толя\n",
      "3. Вася\n"
     ]
    }
   ],
   "source": [
    "scores = {int(input()): \"Петя\",\n",
    "          int(input()): \"Вася\",\n",
    "          int(input()): \"Толя\"}\n",
    "\n",
    "avg_speeds = sorted(scores.keys())\n",
    "print(\"1.\", scores[avg_speeds.pop()])\n",
    "print(\"2.\", scores[avg_speeds.pop()])\n",
    "print(\"3.\", scores[avg_speeds.pop()])"
   ]
  },
  {
   "cell_type": "code",
   "execution_count": 26,
   "id": "496e4a4d",
   "metadata": {},
   "outputs": [
    {
     "name": "stdout",
     "output_type": "stream",
     "text": [
      "k\n"
     ]
    }
   ],
   "source": [
    "line_1 = \"m\"\n",
    "line_2 = \"n\"\n",
    "line_3 = \"k\"\n",
    "print(min(line_1, line_2, line_3))"
   ]
  },
  {
   "cell_type": "code",
   "execution_count": 34,
   "id": "0725de24",
   "metadata": {},
   "outputs": [
    {
     "name": "stdout",
     "output_type": "stream",
     "text": [
      "3\n",
      "5\n",
      "Вася\n"
     ]
    }
   ],
   "source": [
    "# E\n",
    "\n",
    "n, m = (int(input()) for i in range(2))\n",
    "petya = 7\n",
    "vasya = 6\n",
    "petya = petya - 3 + 2 + n\n",
    "vasya = vasya + 5 - 2 + m\n",
    "if petya > vasya:\n",
    "    print(\"Петя\")\n",
    "else:\n",
    "    print(\"Вася\")"
   ]
  },
  {
   "cell_type": "code",
   "execution_count": 39,
   "id": "b291193f",
   "metadata": {},
   "outputs": [
    {
     "name": "stdout",
     "output_type": "stream",
     "text": [
      "10\n",
      "2\n",
      "Петя\n"
     ]
    }
   ],
   "source": [
    "print(\"Петя\" \n",
    "      if 7 - 3 + 2 + int(input()) > 6 + 5 - 2 + int(input())\n",
    "      else \"Вася\")"
   ]
  },
  {
   "cell_type": "code",
   "execution_count": 42,
   "id": "6ba98aeb",
   "metadata": {},
   "outputs": [
    {
     "name": "stdout",
     "output_type": "stream",
     "text": [
      "2022\n",
      "NO\n"
     ]
    }
   ],
   "source": [
    "# F\n",
    "\n",
    "year = int(input())\n",
    "if (year % 4 == 0 and year % 100 != 0) or year % 400 == 0:\n",
    "    print('YES')\n",
    "else:\n",
    "    print('NO')"
   ]
  },
  {
   "cell_type": "code",
   "execution_count": 46,
   "id": "5d512734",
   "metadata": {},
   "outputs": [
    {
     "name": "stdout",
     "output_type": "stream",
     "text": [
      "1234\n",
      "NO\n"
     ]
    }
   ],
   "source": [
    "# G\n",
    "\n",
    "number = input()\n",
    "print('YES' if number == number[::-1]\n",
    "      else 'NO')"
   ]
  },
  {
   "cell_type": "code",
   "execution_count": 53,
   "id": "59a03dab",
   "metadata": {},
   "outputs": [
    {
     "data": {
      "text/plain": [
       "'42'"
      ]
     },
     "execution_count": 53,
     "metadata": {},
     "output_type": "execute_result"
    }
   ],
   "source": [
    "number[::-2]"
   ]
  },
  {
   "cell_type": "code",
   "execution_count": 55,
   "id": "7673c2df",
   "metadata": {},
   "outputs": [
    {
     "name": "stdout",
     "output_type": "stream",
     "text": [
      "березка елочка китя волк березка\n",
      "NO\n"
     ]
    }
   ],
   "source": [
    "# H\n",
    "\n",
    "print('YES' if 'зайка' in input()\n",
    "      else 'NO')"
   ]
  },
  {
   "cell_type": "code",
   "execution_count": 56,
   "id": "9be0c371",
   "metadata": {},
   "outputs": [
    {
     "name": "stdout",
     "output_type": "stream",
     "text": [
      "Толя\n",
      "Коля\n",
      "Вася\n",
      "Вася\n"
     ]
    }
   ],
   "source": [
    "# I\n",
    "\n",
    "name1 = input()\n",
    "name2 = input()\n",
    "name3 = input()\n",
    "print(min(name1, name2, name3))"
   ]
  },
  {
   "cell_type": "code",
   "execution_count": 58,
   "id": "5503b96a",
   "metadata": {},
   "outputs": [
    {
     "name": "stdout",
     "output_type": "stream",
     "text": [
      "Толя\n",
      "Коля\n",
      "Вася\n",
      "Вася\n"
     ]
    }
   ],
   "source": [
    "print(min(input() for i in range(3)))"
   ]
  },
  {
   "cell_type": "code",
   "execution_count": 73,
   "id": "8bbc5e7d",
   "metadata": {},
   "outputs": [
    {
     "name": "stdout",
     "output_type": "stream",
     "text": [
      "741\n",
      "115\n"
     ]
    }
   ],
   "source": [
    "# J\n",
    "\n",
    "number = int(input())\n",
    "n1 = number // 100\n",
    "n2 = number // 10 % 10\n",
    "n3 = number % 10\n",
    "a = n2 + n3\n",
    "b = n1 + n2\n",
    "if a < b:\n",
    "    a, b = b, a\n",
    "print(f\"{a}{b}\")"
   ]
  }
 ],
 "metadata": {
  "kernelspec": {
   "display_name": "Python 3 (ipykernel)",
   "language": "python",
   "name": "python3"
  },
  "language_info": {
   "codemirror_mode": {
    "name": "ipython",
    "version": 3
   },
   "file_extension": ".py",
   "mimetype": "text/x-python",
   "name": "python",
   "nbconvert_exporter": "python",
   "pygments_lexer": "ipython3",
   "version": "3.9.7"
  }
 },
 "nbformat": 4,
 "nbformat_minor": 5
}
