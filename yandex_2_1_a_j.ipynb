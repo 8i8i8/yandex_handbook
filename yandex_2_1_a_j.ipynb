{
 "cells": [
  {
   "cell_type": "markdown",
   "id": "c2858a47-9c13-479d-b9bf-2bcf35fe8c03",
   "metadata": {},
   "source": [
    "#### задача 1"
   ]
  },
  {
   "cell_type": "code",
   "execution_count": 1,
   "id": "1bb09eec-04c0-42ee-9ed9-b4458eeff574",
   "metadata": {},
   "outputs": [
    {
     "name": "stdout",
     "output_type": "stream",
     "text": [
      "Привет, Яндекс!\n"
     ]
    }
   ],
   "source": [
    "print(\"Привет, Яндекс!\")"
   ]
  },
  {
   "cell_type": "markdown",
   "id": "f0e52fc4-c2df-4d89-aec4-870dc9ce1c3a",
   "metadata": {},
   "source": [
    "#### задача 2"
   ]
  },
  {
   "cell_type": "code",
   "execution_count": 8,
   "id": "f2d044cc-9142-4983-8ae9-40d34de3afde",
   "metadata": {},
   "outputs": [
    {
     "name": "stdin",
     "output_type": "stream",
     "text": [
      "Как Вас зовут? sdfsad\n"
     ]
    },
    {
     "name": "stdout",
     "output_type": "stream",
     "text": [
      "Привет, sdfsad\n"
     ]
    }
   ],
   "source": [
    "name = input(\"Как Вас зовут?\")\n",
    "print(f\"Привет, {name}\")"
   ]
  },
  {
   "cell_type": "markdown",
   "id": "3c9278d7-8269-4433-b3eb-59b6e6f0d4f9",
   "metadata": {},
   "source": [
    "#### задача 3"
   ]
  },
  {
   "cell_type": "code",
   "execution_count": 18,
   "id": "9f301ba5-ad77-43f6-b884-f3e8a1817feb",
   "metadata": {},
   "outputs": [
    {
     "name": "stdin",
     "output_type": "stream",
     "text": [
      " 2 + 2 + 2\n"
     ]
    },
    {
     "name": "stdout",
     "output_type": "stream",
     "text": [
      "2 + 2 + 2\n",
      "2 + 2 + 2\n",
      "2 + 2 + 2\n"
     ]
    }
   ],
   "source": [
    "a = input()\n",
    "print(f\"{a}\\n{a}\\n{a}\")"
   ]
  },
  {
   "cell_type": "markdown",
   "id": "d00607fd-9a4c-4638-b178-1907d2237e87",
   "metadata": {},
   "source": [
    "#### задача 4"
   ]
  },
  {
   "cell_type": "code",
   "execution_count": 28,
   "id": "207c7cbb-5443-4dbf-b782-fd8984407925",
   "metadata": {},
   "outputs": [
    {
     "name": "stdin",
     "output_type": "stream",
     "text": [
      " 100\n"
     ]
    },
    {
     "name": "stdout",
     "output_type": "stream",
     "text": [
      "5\n"
     ]
    }
   ],
   "source": [
    "a = int(input())\n",
    "b = a - 2.5 * 38\n",
    "print(int(b))"
   ]
  },
  {
   "cell_type": "markdown",
   "id": "74b591df-cd83-4782-9470-0f8850882a68",
   "metadata": {},
   "source": [
    "#### задача 5"
   ]
  },
  {
   "cell_type": "code",
   "execution_count": 2,
   "id": "20b08294-5bf5-46da-b992-e0ca8b2971a9",
   "metadata": {},
   "outputs": [
    {
     "name": "stdin",
     "output_type": "stream",
     "text": [
      " 2\n",
      " 3\n",
      " 10\n"
     ]
    },
    {
     "name": "stdout",
     "output_type": "stream",
     "text": [
      "4\n"
     ]
    }
   ],
   "source": [
    "price = int(input())\n",
    "weight = int(input())\n",
    "money = int(input())\n",
    "cash = money - price * weight\n",
    "print(cash)"
   ]
  },
  {
   "cell_type": "code",
   "execution_count": 40,
   "id": "5769f413-07b7-48ec-b1a7-ad31def0baa3",
   "metadata": {},
   "outputs": [
    {
     "name": "stdin",
     "output_type": "stream",
     "text": [
      " 2\n",
      " 3\n",
      " 10\n"
     ]
    },
    {
     "name": "stdout",
     "output_type": "stream",
     "text": [
      "4\n"
     ]
    }
   ],
   "source": [
    "price, weight, money = (int(input()) for num in range(3)) \n",
    "cash = money - price * weight\n",
    "print(cash)"
   ]
  },
  {
   "cell_type": "code",
   "execution_count": 54,
   "id": "c9500bc4-44dc-4f17-a1f2-87b9829b5860",
   "metadata": {},
   "outputs": [
    {
     "name": "stdin",
     "output_type": "stream",
     "text": [
      " черешня\n",
      " 2\n",
      " 3\n",
      " 10\n"
     ]
    },
    {
     "name": "stdout",
     "output_type": "stream",
     "text": [
      "Чек\n",
      "черешня - 3кг - 2руб/кг\n",
      "Итого: 6руб\n",
      "Внесено: 10руб\n",
      "Сдача: 4руб\n"
     ]
    }
   ],
   "source": [
    "# F\n",
    "name = input()\n",
    "price = int(input())\n",
    "weight = int(input())\n",
    "money = int(input())\n",
    "sum = price * weight\n",
    "cash = money - sum\n",
    "print(\"Чек\")\n",
    "print(f\"{name} - {weight}кг - {price}руб/кг\")\n",
    "print(f\"Итого: {sum}руб\")\n",
    "print(f\"Внесено: {money}руб\")\n",
    "print(f\"Сдача: {cash}руб\")"
   ]
  },
  {
   "cell_type": "code",
   "execution_count": 57,
   "id": "f743954d-6722-4ece-96d9-bf6d30fec06a",
   "metadata": {},
   "outputs": [
    {
     "name": "stdin",
     "output_type": "stream",
     "text": [
      " 3\n"
     ]
    },
    {
     "name": "stdout",
     "output_type": "stream",
     "text": [
      "Купи слона!\n",
      "Купи слона!\n",
      "Купи слона!\n",
      "\n"
     ]
    }
   ],
   "source": [
    "# G\n",
    "\n",
    "a = int(input())\n",
    "print(\"Купи слона!\\n\" * a)"
   ]
  },
  {
   "cell_type": "code",
   "execution_count": 3,
   "id": "0a444ed8-1ff6-4816-8cdb-f7892a19de7e",
   "metadata": {},
   "outputs": [
    {
     "name": "stdin",
     "output_type": "stream",
     "text": [
      " 2\n",
      " купи слона\n"
     ]
    },
    {
     "name": "stdout",
     "output_type": "stream",
     "text": [
      "Я больше никогда не буду писать \"купи слона\"!\n",
      "Я больше никогда не буду писать \"купи слона\"!\n",
      "\n"
     ]
    }
   ],
   "source": [
    "# H\n",
    "\n",
    "a = int(input())\n",
    "word = input()\n",
    "print(f'Я больше никогда не буду писать \"{word}\"!\\n' * a)"
   ]
  },
  {
   "cell_type": "code",
   "execution_count": 62,
   "id": "053d1efe-8545-45d6-ab0c-8b5b02dedcaa",
   "metadata": {},
   "outputs": [
    {
     "name": "stdin",
     "output_type": "stream",
     "text": [
      " 10\n",
      " 10\n"
     ]
    },
    {
     "name": "stdout",
     "output_type": "stream",
     "text": [
      "50\n"
     ]
    }
   ],
   "source": [
    "# I\n",
    "\n",
    "kid = int(input())\n",
    "time = int(input())\n",
    "kolbasa = (time / 2) * kid\n",
    "print(int(kolbasa))"
   ]
  },
  {
   "cell_type": "code",
   "execution_count": 92,
   "id": "0b28a1cf-aac7-4993-b26d-4ebef0f94bc8",
   "metadata": {},
   "outputs": [
    {
     "name": "stdin",
     "output_type": "stream",
     "text": [
      " Ванечка\n",
      " 832\n"
     ]
    },
    {
     "name": "stdout",
     "output_type": "stream",
     "text": [
      "Группа №8.\n",
      "2. Ванечка.\n",
      "Шкафчик: 832.\n",
      "Кроватка: 3.\n"
     ]
    }
   ],
   "source": [
    "# J\n",
    "\n",
    "name = input()\n",
    "group, bed, number = (num for num in input())\n",
    "print(f\"Группа №{group}.\")\n",
    "print(f\"{number}. {name}.\")\n",
    "print(f\"Шкафчик: {group + bed + number}.\")\n",
    "print(f\"Кроватка: {bed}.\")"
   ]
  }
 ],
 "metadata": {
  "kernelspec": {
   "display_name": "Python 3 (ipykernel)",
   "language": "python",
   "name": "python3"
  },
  "language_info": {
   "codemirror_mode": {
    "name": "ipython",
    "version": 3
   },
   "file_extension": ".py",
   "mimetype": "text/x-python",
   "name": "python",
   "nbconvert_exporter": "python",
   "pygments_lexer": "ipython3",
   "version": "3.9.7"
  }
 },
 "nbformat": 4,
 "nbformat_minor": 5
}
